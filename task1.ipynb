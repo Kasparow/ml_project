{
 "cells": [
  {
   "cell_type": "markdown",
   "metadata": {},
   "source": [
    "1. Load the first N = 5000 MNIST digits. Select only those digits in the training set which are either zeros or ones\n",
    "2. Take the first N/2 digits to be training set, \n",
    "3. and the remaining N/2 to be the test set. \n",
    "4. Apply your implementation of the perceptron algorithm to this data. (Remember that the corresponding class vector has to be converted to ±1.) \n",
    "5. Does the algorithm converge? After how many iterations? \n",
    "6. Applying the learned linear classifier to the test set (using only those instances which are zeros or ones), what is the error rate? \n",
    "7. Plot the pixel weights as an image (leaving out the bias weight), does it resemble a zero or a one? Why or why not?"
   ]
  },
  {
   "cell_type": "code",
   "execution_count": 1,
   "metadata": {},
   "outputs": [],
   "source": [
    "import numpy as np\n",
    "from mnist import MNIST\n",
    "\n",
    "mndata = MNIST('data')\n",
    "\n",
    "\n",
    "# 1, 2, 3\n",
    "images, labels = mndata.load_training()\n",
    "images = np.array(images)[:5000]\n",
    "labels = np.array(labels)[:5000]\n",
    "mask = (labels == 0) + (labels == 1)\n",
    "images = images[mask]\n",
    "labels = labels[mask]\n",
    "ls = []\n",
    "for l in labels:\n",
    "    if l == 0:\n",
    "        ls.append(-1)\n",
    "    else:\n",
    "        ls.append(l)\n",
    "labels = np.array(ls)\n",
    "split_idx = int(len(labels)/2)\n",
    "X_train, y_train = images[:split_idx], labels[:split_idx]\n",
    "X_test, y_test = images[split_idx:], labels[split_idx:]"
   ]
  },
  {
   "cell_type": "code",
   "execution_count": 53,
   "metadata": {},
   "outputs": [
    {
     "name": "stdout",
     "output_type": "stream",
     "text": [
      "label: -1\n"
     ]
    },
    {
     "data": {
      "text/plain": [
       "<matplotlib.image.AxesImage at 0x1213e5630>"
      ]
     },
     "execution_count": 53,
     "metadata": {},
     "output_type": "execute_result"
    },
    {
     "data": {
      "image/png": "[encoded data removed]",
      "text/plain": [
       "<Figure size 432x288 with 1 Axes>"
      ]
     },
     "metadata": {
      "needs_background": "light"
     },
     "output_type": "display_data"
    }
   ],
   "source": [
    "import matplotlib.pyplot as plt\n",
    "\n",
    "imgidx = 0\n",
    "print(f\"label: {y_train[imgidx]}\")\n",
    "plt.imshow(X_train[imgidx].reshape(28, 28))"
   ]
  },
  {
   "cell_type": "code",
   "execution_count": 3,
   "metadata": {},
   "outputs": [
    {
     "name": "stdout",
     "output_type": "stream",
     "text": [
      "All correct! Epoch 5\n"
     ]
    }
   ],
   "source": [
    "import perceptron\n",
    "\n",
    "# 4, 5\n",
    "coefs = perceptron.fit(X_train, y_train, max_epochs=50)"
   ]
  },
  {
   "cell_type": "code",
   "execution_count": 24,
   "metadata": {},
   "outputs": [],
   "source": [
    "preds = perceptron.predict(coefs, X_test)"
   ]
  },
  {
   "cell_type": "code",
   "execution_count": 28,
   "metadata": {},
   "outputs": [
    {
     "name": "stdout",
     "output_type": "stream",
     "text": [
      "1.0\n"
     ]
    }
   ],
   "source": [
    "def convert_labels(y, threshold=0):\n",
    "    \"\"\"\n",
    "    Converts labels from real value domain to binary classes [-1, 1] based on threshold.\n",
    "    \"\"\"\n",
    "    y_new = [1 if e >= 0 else -1 for e in y]\n",
    "    return np.array(y_new)\n",
    "\n",
    "\n",
    "def accuracy(y_true, y_pred):\n",
    "    true_mask = (y_true == y_pred)\n",
    "    return true_mask.sum() / true_mask.shape[0]\n",
    "\n",
    "\n",
    "# 6\n",
    "conv_preds = convert_labels(preds)\n",
    "print(accuracy(y_test, conv_preds))"
   ]
  },
  {
   "cell_type": "code",
   "execution_count": 33,
   "metadata": {},
   "outputs": [
    {
     "data": {
      "text/plain": [
       "<matplotlib.image.AxesImage at 0x120c7fd68>"
      ]
     },
     "execution_count": 33,
     "metadata": {},
     "output_type": "execute_result"
    },
    {
     "data": {
      "image/png": "[encoded data removed]",
      "text/plain": [
       "<Figure size 432x288 with 1 Axes>"
      ]
     },
     "metadata": {
      "needs_background": "light"
     },
     "output_type": "display_data"
    }
   ],
   "source": [
    "# 7\n",
    "plt.imshow(coefs.reshape(28, 28), cmap='jet')"
   ]
  },
  {
   "cell_type": "code",
   "execution_count": 45,
   "metadata": {},
   "outputs": [
    {
     "name": "stdout",
     "output_type": "stream",
     "text": [
      "0.3685637257994935\n",
      "0.008820261959898157\n",
      "0.24642588283835454\n",
      "0.9564177361115116\n",
      "0.20094646169326513\n",
      "108.27646194870825\n",
      "-128.13780182164328\n",
      "-435.33758878451624\n",
      "-492.78797443047756\n",
      "-325.53753477448265\n",
      "-805.418782942576\n",
      "-562.1044090057316\n",
      "-68.90279596028131\n",
      "768.3343514835302\n",
      "1712.3829576765486\n",
      "1296.9426425622698\n",
      "182.7279844367986\n",
      "-667.3574500547427\n",
      "-495.83495225014315\n",
      "-459.5168206948502\n",
      "-529.9706896721743\n",
      "-415.7246014250303\n",
      "-448.9618748255588\n",
      "-252.25602422108477\n",
      "-111.94280891263344\n",
      "0.3173335426486299\n",
      "0.7532137263046057\n",
      "0.3395417091173507\n"
     ]
    }
   ],
   "source": [
    "for i in range(392, 420):\n",
    "    print(coefs[i])"
   ]
  },
  {
   "cell_type": "code",
   "execution_count": null,
   "metadata": {},
   "outputs": [],
   "source": []
  },
  {
   "cell_type": "code",
   "execution_count": null,
   "metadata": {},
   "outputs": [],
   "source": []
  }
 ],
 "metadata": {
  "kernelspec": {
   "display_name": "Python 3",
   "language": "python",
   "name": "python3"
  },
  "language_info": {
   "codemirror_mode": {
    "name": "ipython",
    "version": 3
   },
   "file_extension": ".py",
   "mimetype": "text/x-python",
   "name": "python",
   "nbconvert_exporter": "python",
   "pygments_lexer": "ipython3",
   "version": "3.7.2"
  }
 },
 "nbformat": 4,
 "nbformat_minor": 4
}
