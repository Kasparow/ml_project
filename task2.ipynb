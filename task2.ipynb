{
 "cells": [
  {
   "cell_type": "markdown",
   "metadata": {},
   "source": [
    "## Load 20news data with python\n",
    "\n",
    "The data is in form (group, word, frequency). This structure follows the COO sparse matrix format.\n",
    "\n",
    "The last column (frequency) is not used in this project.\n",
    "\n",
    "Finally print details to make sure loading data stats from here results the same values as provided by R example demo(0).\n",
    "\n",
    "__R Demo(0) stats__:\n",
    "- Number of groups: 20\n",
    "- Number of words: 53975\n",
    "- Number of documents: 11269\n",
    "- Number of word-doc pairs: 1467345\n",
    "- Density: 0.002412427"
   ]
  },
  {
   "cell_type": "code",
   "execution_count": 127,
   "metadata": {},
   "outputs": [],
   "source": [
    "import pickle\n",
    "import json\n",
    "import numpy as np\n",
    "from scipy.sparse import coo_matrix, csr_matrix, vstack"
   ]
  },
  {
   "cell_type": "code",
   "execution_count": 3,
   "metadata": {},
   "outputs": [
    {
     "name": "stdout",
     "output_type": "stream",
     "text": [
      "('1', '1')\n"
     ]
    }
   ],
   "source": [
    "def load_20news_data(path_pfix=\"data/20news/\"):\n",
    "    X = []\n",
    "    with open(f\"{path_pfix}train.data\", \"r\") as f:\n",
    "        for i, line in enumerate(f.readlines()):\n",
    "            line = line.split()\n",
    "            assert len(line) == 3, f\"line.split() returned incorrect number of elements: {len(line)} != 3\"\n",
    "            X.append(tuple(line[:2]))\n",
    "    \n",
    "    f = open(f\"{path_pfix}train.label\", \"r\")\n",
    "    y = [label.strip() for label in f.readlines()]\n",
    "    f.close()\n",
    "    \n",
    "    f = open(f\"{path_pfix}vocabulary.txt\", \"r\")\n",
    "    vocab = [token.strip() for token in f.readlines()]\n",
    "    f.close()\n",
    "    print(X[0])\n",
    "    return np.array(X, dtype=int), np.array(y, dtype=int), vocab\n",
    "\n",
    "\n",
    "X, y, vocab = load_20news_data()\n",
    "prev_docid = None\n",
    "docid_count = 0\n",
    "for x in X:\n",
    "    if x[0] != prev_docid:\n",
    "        docid_count += 1\n",
    "        prev_docid = x[0]\n",
    "\n",
    "assert docid_count == len(y), \\\n",
    "    \"Number of doc_ids and labels should be equal, got {docid_count} doc_ids and {len(y)} labels.\"\n",
    "\n",
    "groups = [\n",
    "    'alt.atheism', \n",
    "    'comp.graphics',    \n",
    "    'comp.os.ms-windows.misc', \n",
    "    'comp.sys.ibm.pc.hardware', \n",
    "    'comp.sys.mac.hardware', \n",
    "    'comp.windows.x', \n",
    "    'misc.forsale', \n",
    "    'rec.autos', \n",
    "    'rec.motorcycles', \n",
    "    'rec.sport.baseball', \n",
    "    'rec.sport.hockey', \n",
    "    'sci.crypt', \n",
    "    'sci.electronics', \n",
    "    'sci.med', \n",
    "    'sci.space', \n",
    "    'soc.religion.christian', \n",
    "    'talk.politics.guns',\n",
    "    'talk.politics.mideast', \n",
    "    'talk.politics.misc', \n",
    "    'talk.religion.misc'\n",
    "]\n"
   ]
  },
  {
   "cell_type": "code",
   "execution_count": 4,
   "metadata": {},
   "outputs": [
    {
     "name": "stdout",
     "output_type": "stream",
     "text": [
      "• Number of groups: 20\n",
      "• Number of words: 53975\n",
      "• Number of documents: 11269\n",
      "• Number of word-doc-pairs: 1467345\n",
      "• Density: 0.002412427\n"
     ]
    }
   ],
   "source": [
    "print(f\"• Number of groups: {len(groups)}\")\n",
    "print(f\"• Number of words: {len(vocab)}\")\n",
    "print(f\"• Number of documents: {docid_count}\")\n",
    "print(f\"• Number of word-doc-pairs: {len(X)}\")\n",
    "print(f\"• Density: {round(len(X)/(docid_count*len(vocab)), 9)}\")"
   ]
  },
  {
   "cell_type": "code",
   "execution_count": 8,
   "metadata": {},
   "outputs": [],
   "source": [
    "ynp = np.array(y, dtype=int)\n",
    "group_index_ranges = []  # stores 2-tuples like (start_index, end_index) for each of the 20 groups\n",
    "train_index_ranges = []\n",
    "test_index_ranges = []\n",
    "for i in range(1, 21):\n",
    "    mask = (ynp == i)\n",
    "    idx_range = np.where(mask)[0]\n",
    "    split_idx = int((idx_range[-1]-idx_range[0])*0.9+idx_range[0])\n",
    "    group_index_ranges.append((idx_range[0], idx_range[-1]))\n",
    "    train_index_ranges.append((idx_range[0], split_idx))\n",
    "    test_index_ranges.append((split_idx, idx_range[-1]+1))"
   ]
  },
  {
   "cell_type": "code",
   "execution_count": 9,
   "metadata": {},
   "outputs": [
    {
     "data": {
      "text/plain": [
       "[(0, 431),\n",
       " (480, 1002),\n",
       " (1061, 1574),\n",
       " (1633, 2160),\n",
       " (2220, 2736),\n",
       " (2795, 3326),\n",
       " (3387, 3909),\n",
       " (3969, 4500),\n",
       " (4561, 5096),\n",
       " (5157, 5690),\n",
       " (5751, 6288),\n",
       " (6349, 6882),\n",
       " (6943, 7474),\n",
       " (7534, 8067),\n",
       " (8128, 8660),\n",
       " (8721, 9259),\n",
       " (9320, 9809),\n",
       " (9865, 10371),\n",
       " (10429, 10845),\n",
       " (10893, 11230)]"
      ]
     },
     "execution_count": 9,
     "metadata": {},
     "output_type": "execute_result"
    }
   ],
   "source": [
    "train_index_ranges"
   ]
  },
  {
   "cell_type": "code",
   "execution_count": 10,
   "metadata": {
    "scrolled": false
   },
   "outputs": [
    {
     "data": {
      "text/plain": [
       "[(431, 480),\n",
       " (1002, 1061),\n",
       " (1574, 1633),\n",
       " (2160, 2220),\n",
       " (2736, 2795),\n",
       " (3326, 3387),\n",
       " (3909, 3969),\n",
       " (4500, 4561),\n",
       " (5096, 5157),\n",
       " (5690, 5751),\n",
       " (6288, 6349),\n",
       " (6882, 6943),\n",
       " (7474, 7534),\n",
       " (8067, 8128),\n",
       " (8660, 8721),\n",
       " (9259, 9320),\n",
       " (9809, 9865),\n",
       " (10371, 10429),\n",
       " (10845, 10893),\n",
       " (11230, 11269)]"
      ]
     },
     "execution_count": 10,
     "metadata": {},
     "output_type": "execute_result"
    }
   ],
   "source": [
    "test_index_ranges"
   ]
  },
  {
   "cell_type": "markdown",
   "metadata": {},
   "source": [
    "### Create conditional probability tables\n",
    "\n",
    "\"Estimate the probability that a document from the given group contains the word word.\"\n",
    "\n",
    "Here we don't care about the word frequencies in documents, just the binary occurrence. Basically you need to count the number of documents in each group that has each word.\n",
    "\n",
    "`p(w|g) = #(docs_having_word and docs_in_group) / #docs_in_group`"
   ]
  },
  {
   "cell_type": "code",
   "execution_count": 104,
   "metadata": {},
   "outputs": [
    {
     "data": {
      "text/plain": [
       "scipy.sparse.coo.coo_matrix"
      ]
     },
     "execution_count": 104,
     "metadata": {},
     "output_type": "execute_result"
    }
   ],
   "source": [
    "row = None  # groups\n",
    "col = None  # vocab"
   ]
  },
  {
   "cell_type": "markdown",
   "metadata": {},
   "source": [
    "y-labels are in array thats length is the number of documents in the dataset. X on the other hand is currently in (implicit) sparse matrix format where first index indicates the document and second index the word. Construct a proper sparse matrix from X and concatenate Y to it.\n",
    "\n",
    "The dataset was intended to be used with R and for that reason the indexing starts with 1 instead of 0. Remove the first row and first column from resulting sparse matrix\n",
    "\n",
    "After the data in X is transformed, the documents can be directly aggregated based on group indexes given in y."
   ]
  },
  {
   "cell_type": "code",
   "execution_count": 105,
   "metadata": {},
   "outputs": [
    {
     "name": "stdout",
     "output_type": "stream",
     "text": [
      "(11270, 53976)\n",
      "True\n",
      "True\n"
     ]
    }
   ],
   "source": [
    "X_csr = csr_matrix((np.ones(X.shape[0]), (X[:, 0], X[:, 1])))\n",
    "print(X_csr.shape)\n",
    "print(X_csr[:, 0].sum() == 0)\n",
    "print(X_csr[0, :].sum() == 0)\n",
    "X_csr = X_csr[:, range(1, X_csr.shape[1])]  # remove first column as its all-zeroes\n",
    "X_csr = X_csr[range(1, X_csr.shape[0]), :]  # remove first row as its all-zeroes\n",
    "assert X_csr.sum() == X.shape[0], f\"# of elements in sparse csr matrix does not match with the original\""
   ]
  },
  {
   "cell_type": "code",
   "execution_count": 108,
   "metadata": {},
   "outputs": [
    {
     "name": "stdout",
     "output_type": "stream",
     "text": [
      "(11269, 53975)\n",
      "1467345.0\n",
      "False\n",
      "False\n"
     ]
    }
   ],
   "source": [
    "print(X_csr.shape)\n",
    "print(X_csr.sum())\n",
    "print(X_csr[:, 0].sum() == 0)\n",
    "print(X_csr[0, :].sum() == 0)"
   ]
  },
  {
   "cell_type": "code",
   "execution_count": 165,
   "metadata": {},
   "outputs": [
    {
     "name": "stdout",
     "output_type": "stream",
     "text": [
      "431\n",
      "[[ 3. 33. 74.  4. 35. 30.  4.  1. 15. 48.]]\n",
      "[[0.00696056 0.07656613 0.17169374 0.00928074 0.0812065  0.06960557\n",
      "  0.00928074 0.00232019 0.03480278 0.11136891]]\n",
      "2\n",
      "\n",
      "522\n",
      "[[10. 34.  0.  7.  9. 39.  7.  5. 51.  3.]]\n",
      "[[0.01915709 0.0651341  0.         0.01340996 0.01724138 0.07471264\n",
      "  0.01340996 0.00957854 0.09770115 0.00574713]]\n",
      "2\n",
      "\n",
      "513\n",
      "[[ 9. 39.  0. 10. 13. 32.  2.  2. 81.  0.]]\n",
      "[[0.01754386 0.07602339 0.         0.01949318 0.02534113 0.06237817\n",
      "  0.00389864 0.00389864 0.15789474 0.        ]]\n",
      "2\n",
      "\n",
      "527\n",
      "[[ 6. 18.  0.  0.  5. 41.  2.  1. 24.  0.]]\n",
      "[[0.0113852  0.0341556  0.         0.         0.00948767 0.07779886\n",
      "  0.00379507 0.00189753 0.0455408  0.        ]]\n",
      "2\n",
      "\n",
      "516\n",
      "[[ 4. 19.  0.  1.  0. 35.  0.  0. 24.  0.]]\n",
      "[[0.00775194 0.03682171 0.         0.00193798 0.         0.06782946\n",
      "  0.         0.         0.04651163 0.        ]]\n",
      "2\n",
      "\n",
      "531\n",
      "[[13. 46.  0. 18.  9. 28. 11.  3. 61.  0.]]\n",
      "[[0.02448211 0.086629   0.         0.03389831 0.01694915 0.0527307\n",
      "  0.02071563 0.00564972 0.11487759 0.        ]]\n",
      "2\n",
      "\n",
      "522\n",
      "[[ 0. 18.  0.  2.  1. 23.  0.  0. 15.  3.]]\n",
      "[[0.         0.03448276 0.         0.00383142 0.00191571 0.0440613\n",
      "  0.         0.         0.02873563 0.00574713]]\n",
      "2\n",
      "\n",
      "531\n",
      "[[ 7. 36.  0.  0.  8. 66.  7.  3. 16.  0.]]\n",
      "[[0.01318267 0.06779661 0.         0.         0.01506591 0.12429379\n",
      "  0.01318267 0.00564972 0.03013183 0.        ]]\n",
      "2\n",
      "\n",
      "535\n",
      "[[ 4. 32.  0.  2.  2. 65.  3.  1.  3.  0.]]\n",
      "[[0.00747664 0.05981308 0.         0.00373832 0.00373832 0.12149533\n",
      "  0.00560748 0.00186916 0.00560748 0.        ]]\n",
      "2\n",
      "\n",
      "533\n",
      "[[  1.  24.   0.   2.   1. 145.   1.   0.   2.   0.]]\n",
      "[[0.00187617 0.04502814 0.         0.00375235 0.00187617 0.27204503\n",
      "  0.00187617 0.         0.00375235 0.        ]]\n",
      "2\n",
      "\n",
      "537\n",
      "[[  1.  35.   0.   0.   1. 120.   1.   6.   3.   0.]]\n",
      "[[0.0018622  0.06517691 0.         0.         0.0018622  0.22346369\n",
      "  0.0018622  0.01117318 0.00558659 0.        ]]\n",
      "2\n",
      "\n",
      "533\n",
      "[[29. 55.  0.  7. 20. 53. 22.  4. 39.  0.]]\n",
      "[[0.05440901 0.10318949 0.         0.01313321 0.03752345 0.09943715\n",
      "  0.0412758  0.00750469 0.07317073 0.        ]]\n",
      "2\n",
      "\n",
      "531\n",
      "[[ 1. 18.  0.  1.  4. 21.  3.  1. 21.  0.]]\n",
      "[[0.00188324 0.03389831 0.         0.00188324 0.00753296 0.03954802\n",
      "  0.00564972 0.00188324 0.03954802 0.        ]]\n",
      "2\n",
      "\n",
      "533\n",
      "[[ 5. 24.  0.  8.  8. 45.  1.  4.  8.  0.]]\n",
      "[[0.00938086 0.04502814 0.         0.01500938 0.01500938 0.08442777\n",
      "  0.00187617 0.00750469 0.01500938 0.        ]]\n",
      "2\n",
      "\n",
      "532\n",
      "[[20. 53.  0. 15. 10. 61. 20.  7. 14.  0.]]\n",
      "[[0.03759398 0.09962406 0.         0.02819549 0.01879699 0.11466165\n",
      "  0.03759398 0.01315789 0.02631579 0.        ]]\n",
      "2\n",
      "\n",
      "538\n",
      "[[ 0. 61. 10.  5. 11. 65.  0.  0. 11. 37.]]\n",
      "[[0.         0.1133829  0.01858736 0.00929368 0.0204461  0.12081784\n",
      "  0.         0.         0.0204461  0.06877323]]\n",
      "2\n",
      "\n",
      "489\n",
      "[[ 0. 24.  0.  6. 10. 82.  2.  0. 14.  0.]]\n",
      "[[0.         0.04907975 0.         0.01226994 0.0204499  0.16768916\n",
      "  0.00408998 0.         0.02862986 0.        ]]\n",
      "2\n",
      "\n",
      "506\n",
      "[[ 8. 67.  0.  7.  2. 97.  5. 19.  9.  1.]]\n",
      "[[0.01581028 0.13241107 0.         0.01383399 0.00395257 0.1916996\n",
      "  0.00988142 0.03754941 0.01778656 0.00197628]]\n",
      "2\n",
      "\n",
      "416\n",
      "[[ 0. 25.  0. 13.  9. 85.  1. 11.  5.  0.]]\n",
      "[[0.         0.06009615 0.         0.03125    0.02163462 0.20432692\n",
      "  0.00240385 0.02644231 0.01201923 0.        ]]\n",
      "2\n",
      "\n",
      "337\n",
      "[[ 0. 28.  7.  2.  9. 30.  3.  1. 11.  4.]]\n",
      "[[0.         0.08308605 0.02077151 0.00593472 0.02670623 0.08902077\n",
      "  0.00890208 0.00296736 0.03264095 0.01186944]]\n",
      "2\n",
      "\n"
     ]
    }
   ],
   "source": [
    "# so now to calculate p(w|g) we need to sum by row the subsets of X_csr defined by group indeces\n",
    "# and then divide each element by # docs in group (length of group index range)\n",
    "prob_stack = []\n",
    "for start, end in train_index_ranges:\n",
    "    vec = X_csr[start:end, :].sum(axis=0)\n",
    "    print(end-start)\n",
    "    num_docs = end-start\n",
    "    print(vec[0, :10])\n",
    "    vec = vec/num_docs\n",
    "    print(vec[0, :10])\n",
    "    print(vec.ndim)\n",
    "    print()\n",
    "    prob_stack.append(vec.A.reshape(vec.shape[1]))\n",
    "\n",
    "prob_stack = np.array(stack)"
   ]
  },
  {
   "cell_type": "code",
   "execution_count": 169,
   "metadata": {},
   "outputs": [
    {
     "name": "stdout",
     "output_type": "stream",
     "text": [
      "(20, 53975)\n",
      "[0.         0.08308605 0.02077151 0.00593472 0.02670623 0.08902077\n",
      " 0.00890208 0.00296736 0.03264095 0.01186944]\n"
     ]
    }
   ],
   "source": [
    "print(prob_stack.shape)\n",
    "print(prob_stack[-1, :10])"
   ]
  },
  {
   "cell_type": "markdown",
   "metadata": {},
   "source": [
    "prob_stack is a matrix shape (groups, vocab) that keeps the probabilities for number of documents having a word divided by number of documents in a group. Laplace smoothing has not yet been applied. Instructions for Laplace/Additive smoothing: https://en.wikipedia.org/wiki/Additive_smoothing"
   ]
  },
  {
   "cell_type": "code",
   "execution_count": null,
   "metadata": {},
   "outputs": [],
   "source": []
  }
 ],
 "metadata": {
  "kernelspec": {
   "display_name": "Python 3",
   "language": "python",
   "name": "python3"
  },
  "language_info": {
   "codemirror_mode": {
    "name": "ipython",
    "version": 3
   },
   "file_extension": ".py",
   "mimetype": "text/x-python",
   "name": "python",
   "nbconvert_exporter": "python",
   "pygments_lexer": "ipython3",
   "version": "3.7.2"
  }
 },
 "nbformat": 4,
 "nbformat_minor": 4
}
