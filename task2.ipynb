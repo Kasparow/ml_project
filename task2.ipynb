{
 "cells": [
  {
   "cell_type": "markdown",
   "metadata": {},
   "source": [
    "## Load 20news data with python\n",
    "\n",
    "The data is in form (group, word, frequency). This structure follows the COO sparse matrix format.\n",
    "\n",
    "The last column (frequency) is not used in this project.\n",
    "\n",
    "Finally print details to make sure loading data stats from here results the same values as provided by R example demo(0).\n",
    "\n",
    "__R Demo(0) stats__:\n",
    "- Number of groups: 20\n",
    "- Number of words: 53975\n",
    "- Number of documents: 11269\n",
    "- Number of word-doc pairs: 1467345\n",
    "- Density: 0.002412427"
   ]
  },
  {
   "cell_type": "code",
   "execution_count": 83,
   "metadata": {},
   "outputs": [],
   "source": [
    "import pickle\n",
    "import json\n",
    "import numpy as np\n",
    "from scipy.sparse import coo_matrix, csr_matrix"
   ]
  },
  {
   "cell_type": "code",
   "execution_count": 3,
   "metadata": {},
   "outputs": [
    {
     "name": "stdout",
     "output_type": "stream",
     "text": [
      "('1', '1')\n"
     ]
    }
   ],
   "source": [
    "def load_20news_data(path_pfix=\"data/20news/\"):\n",
    "    X = []\n",
    "    with open(f\"{path_pfix}train.data\", \"r\") as f:\n",
    "        for i, line in enumerate(f.readlines()):\n",
    "            line = line.split()\n",
    "            assert len(line) == 3, f\"line.split() returned incorrect number of elements: {len(line)} != 3\"\n",
    "            X.append(tuple(line[:2]))\n",
    "    \n",
    "    f = open(f\"{path_pfix}train.label\", \"r\")\n",
    "    y = [label.strip() for label in f.readlines()]\n",
    "    f.close()\n",
    "    \n",
    "    f = open(f\"{path_pfix}vocabulary.txt\", \"r\")\n",
    "    vocab = [token.strip() for token in f.readlines()]\n",
    "    f.close()\n",
    "    print(X[0])\n",
    "    return np.array(X, dtype=int), np.array(y, dtype=int), vocab\n",
    "\n",
    "\n",
    "X, y, vocab = load_20news_data()\n",
    "prev_docid = None\n",
    "docid_count = 0\n",
    "for x in X:\n",
    "    if x[0] != prev_docid:\n",
    "        docid_count += 1\n",
    "        prev_docid = x[0]\n",
    "\n",
    "assert docid_count == len(y), \\\n",
    "    \"Number of doc_ids and labels should be equal, got {docid_count} doc_ids and {len(y)} labels.\"\n",
    "\n",
    "groups = [\n",
    "    'alt.atheism', \n",
    "    'comp.graphics',    \n",
    "    'comp.os.ms-windows.misc', \n",
    "    'comp.sys.ibm.pc.hardware', \n",
    "    'comp.sys.mac.hardware', \n",
    "    'comp.windows.x', \n",
    "    'misc.forsale', \n",
    "    'rec.autos', \n",
    "    'rec.motorcycles', \n",
    "    'rec.sport.baseball', \n",
    "    'rec.sport.hockey', \n",
    "    'sci.crypt', \n",
    "    'sci.electronics', \n",
    "    'sci.med', \n",
    "    'sci.space', \n",
    "    'soc.religion.christian', \n",
    "    'talk.politics.guns',\n",
    "    'talk.politics.mideast', \n",
    "    'talk.politics.misc', \n",
    "    'talk.religion.misc'\n",
    "]\n"
   ]
  },
  {
   "cell_type": "code",
   "execution_count": 4,
   "metadata": {},
   "outputs": [
    {
     "name": "stdout",
     "output_type": "stream",
     "text": [
      "• Number of groups: 20\n",
      "• Number of words: 53975\n",
      "• Number of documents: 11269\n",
      "• Number of word-doc-pairs: 1467345\n",
      "• Density: 0.002412427\n"
     ]
    }
   ],
   "source": [
    "print(f\"• Number of groups: {len(groups)}\")\n",
    "print(f\"• Number of words: {len(vocab)}\")\n",
    "print(f\"• Number of documents: {docid_count}\")\n",
    "print(f\"• Number of word-doc-pairs: {len(X)}\")\n",
    "print(f\"• Density: {round(len(X)/(docid_count*len(vocab)), 9)}\")"
   ]
  },
  {
   "cell_type": "code",
   "execution_count": 8,
   "metadata": {},
   "outputs": [],
   "source": [
    "ynp = np.array(y, dtype=int)\n",
    "group_index_ranges = []  # stores 2-tuples like (start_index, end_index) for each of the 20 groups\n",
    "train_index_ranges = []\n",
    "test_index_ranges = []\n",
    "for i in range(1, 21):\n",
    "    mask = (ynp == i)\n",
    "    idx_range = np.where(mask)[0]\n",
    "    split_idx = int((idx_range[-1]-idx_range[0])*0.9+idx_range[0])\n",
    "    group_index_ranges.append((idx_range[0], idx_range[-1]))\n",
    "    train_index_ranges.append((idx_range[0], split_idx))\n",
    "    test_index_ranges.append((split_idx, idx_range[-1]+1))"
   ]
  },
  {
   "cell_type": "code",
   "execution_count": 9,
   "metadata": {},
   "outputs": [
    {
     "data": {
      "text/plain": [
       "[(0, 431),\n",
       " (480, 1002),\n",
       " (1061, 1574),\n",
       " (1633, 2160),\n",
       " (2220, 2736),\n",
       " (2795, 3326),\n",
       " (3387, 3909),\n",
       " (3969, 4500),\n",
       " (4561, 5096),\n",
       " (5157, 5690),\n",
       " (5751, 6288),\n",
       " (6349, 6882),\n",
       " (6943, 7474),\n",
       " (7534, 8067),\n",
       " (8128, 8660),\n",
       " (8721, 9259),\n",
       " (9320, 9809),\n",
       " (9865, 10371),\n",
       " (10429, 10845),\n",
       " (10893, 11230)]"
      ]
     },
     "execution_count": 9,
     "metadata": {},
     "output_type": "execute_result"
    }
   ],
   "source": [
    "train_index_ranges"
   ]
  },
  {
   "cell_type": "code",
   "execution_count": 10,
   "metadata": {
    "scrolled": false
   },
   "outputs": [
    {
     "data": {
      "text/plain": [
       "[(431, 480),\n",
       " (1002, 1061),\n",
       " (1574, 1633),\n",
       " (2160, 2220),\n",
       " (2736, 2795),\n",
       " (3326, 3387),\n",
       " (3909, 3969),\n",
       " (4500, 4561),\n",
       " (5096, 5157),\n",
       " (5690, 5751),\n",
       " (6288, 6349),\n",
       " (6882, 6943),\n",
       " (7474, 7534),\n",
       " (8067, 8128),\n",
       " (8660, 8721),\n",
       " (9259, 9320),\n",
       " (9809, 9865),\n",
       " (10371, 10429),\n",
       " (10845, 10893),\n",
       " (11230, 11269)]"
      ]
     },
     "execution_count": 10,
     "metadata": {},
     "output_type": "execute_result"
    }
   ],
   "source": [
    "test_index_ranges"
   ]
  },
  {
   "cell_type": "markdown",
   "metadata": {},
   "source": [
    "### Create conditional probability tables\n",
    "\n",
    "\"Estimate the probability that a document from the given group contains the word word.\"\n",
    "\n",
    "Here we don't care about the word frequencies in documents, just the binary occurrence. Basically you need to count the number of documents in each group that has each word.\n",
    "\n",
    "`p(w|g) = #(docs_having_word and docs_in_group) / #docs_in_group`"
   ]
  },
  {
   "cell_type": "code",
   "execution_count": 104,
   "metadata": {},
   "outputs": [
    {
     "data": {
      "text/plain": [
       "scipy.sparse.coo.coo_matrix"
      ]
     },
     "execution_count": 104,
     "metadata": {},
     "output_type": "execute_result"
    }
   ],
   "source": [
    "row = None  # groups\n",
    "col = None  # vocab"
   ]
  },
  {
   "cell_type": "markdown",
   "metadata": {},
   "source": [
    "y-labels are in array thats length is the number of documents in the dataset. X on the other hand is currently in (implicit) sparse matrix format where first index indicates the document and second index the word. Construct a proper sparse matrix from X and concatenate Y to it.\n",
    "\n",
    "The dataset was intended to be used with R and for that reason the indexing starts with 1 instead of 0. Remove the first row and first column from resulting sparse matrix\n",
    "\n",
    "After the data in X is transformed, the documents can be directly aggregated based on group indexes given in y."
   ]
  },
  {
   "cell_type": "code",
   "execution_count": 105,
   "metadata": {},
   "outputs": [
    {
     "name": "stdout",
     "output_type": "stream",
     "text": [
      "(11270, 53976)\n",
      "True\n",
      "True\n"
     ]
    }
   ],
   "source": [
    "X_csr = csr_matrix((np.ones(X.shape[0]), (X[:, 0], X[:, 1])))\n",
    "print(X_csr.shape)\n",
    "print(X_csr[:, 0].sum() == 0)\n",
    "print(X_csr[0, :].sum() == 0)\n",
    "X_csr = X_csr[:, range(1, X_csr.shape[1])]  # remove first column as its all-zeroes\n",
    "X_csr = X_csr[range(1, X_csr.shape[0]), :]  # remove first row as its all-zeroes\n",
    "assert X_csr.sum() == X.shape[0], f\"# of elements in sparse csr matrix does not match with the original\""
   ]
  },
  {
   "cell_type": "code",
   "execution_count": 108,
   "metadata": {},
   "outputs": [
    {
     "name": "stdout",
     "output_type": "stream",
     "text": [
      "(11269, 53975)\n",
      "1467345.0\n",
      "False\n",
      "False\n"
     ]
    }
   ],
   "source": [
    "print(X_csr.shape)\n",
    "print(X_csr.sum())\n",
    "print(X_csr[:, 0].sum() == 0)\n",
    "print(X_csr[0, :].sum() == 0)"
   ]
  },
  {
   "cell_type": "code",
   "execution_count": null,
   "metadata": {},
   "outputs": [],
   "source": []
  }
 ],
 "metadata": {
  "kernelspec": {
   "display_name": "Python 3",
   "language": "python",
   "name": "python3"
  },
  "language_info": {
   "codemirror_mode": {
    "name": "ipython",
    "version": 3
   },
   "file_extension": ".py",
   "mimetype": "text/x-python",
   "name": "python",
   "nbconvert_exporter": "python",
   "pygments_lexer": "ipython3",
   "version": "3.7.2"
  }
 },
 "nbformat": 4,
 "nbformat_minor": 4
}
